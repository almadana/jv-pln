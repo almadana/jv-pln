{
 "cells": [
  {
   "cell_type": "code",
   "execution_count": 25,
   "id": "5bfde1a0",
   "metadata": {},
   "outputs": [],
   "source": [
    "from scipy.io import loadmat, savemat, wavfile\n",
    "from datasets import load_dataset\n",
    "from transformers import WhisperProcessor, WhisperForConditionalGeneration\n",
    "import torch \n"
   ]
  },
  {
   "cell_type": "code",
   "execution_count": 14,
   "id": "44d7b44d",
   "metadata": {},
   "outputs": [],
   "source": [
    "processor = WhisperProcessor.from_pretrained(\"openai/whisper-base.en\")\n",
    "model = WhisperForConditionalGeneration.from_pretrained(\"openai/whisper-base.en\")"
   ]
  },
  {
   "cell_type": "code",
   "execution_count": 36,
   "id": "ce055391",
   "metadata": {},
   "outputs": [
    {
     "name": "stderr",
     "output_type": "stream",
     "text": [
      "/tmp/ipykernel_33562/2509183752.py:1: WavFileWarning: Chunk (non-data) not understood, skipping it.\n",
      "  samplerate, data = wavfile.read(\"../aud_data/trials/WAV/trial01.wav\")\n"
     ]
    }
   ],
   "source": [
    "samplerate, data = wavfile.read(\"../aud_data/trials/WAV/trial01.wav\")\n"
   ]
  },
  {
   "cell_type": "code",
   "execution_count": 38,
   "id": "308ef5f9",
   "metadata": {},
   "outputs": [],
   "source": [
    "input_features = processor(data,sampling_rate=samplerate, return_tensors=\"pt\").input_features "
   ]
  },
  {
   "cell_type": "code",
   "execution_count": 39,
   "id": "35a7523f",
   "metadata": {},
   "outputs": [
    {
     "data": {
      "text/plain": [
       "tensor([[[1.6125, 1.6125, 1.6125,  ..., 2.6345, 2.6003, 2.5186],\n",
       "         [1.6125, 1.6125, 1.6125,  ..., 2.9343, 2.9122, 2.8903],\n",
       "         [1.6125, 1.6125, 1.6125,  ..., 2.9455, 2.9130, 3.0100],\n",
       "         ...,\n",
       "         [1.6125, 1.6125, 1.6125,  ..., 1.6125, 1.6125, 1.6125],\n",
       "         [1.6125, 1.6125, 1.6125,  ..., 1.6125, 1.6125, 1.6125],\n",
       "         [1.6125, 1.6125, 1.6125,  ..., 1.6125, 1.6125, 1.6125]]])"
      ]
     },
     "execution_count": 39,
     "metadata": {},
     "output_type": "execute_result"
    }
   ],
   "source": [
    "input_features"
   ]
  },
  {
   "cell_type": "code",
   "execution_count": 40,
   "id": "5c30c1a4",
   "metadata": {},
   "outputs": [
    {
     "name": "stderr",
     "output_type": "stream",
     "text": [
      "/home/perezoso/anaconda3/envs/jv-pln/lib/python3.11/site-packages/transformers/generation/utils.py:1273: UserWarning: Neither `max_length` nor `max_new_tokens` has been set, `max_length` will default to 448 (`generation_config.max_length`). Controlling `max_length` via the config is deprecated and `max_length` will be removed from the config in v5 of Transformers -- we recommend using `max_new_tokens` to control the maximum length of the generation.\n",
      "  warnings.warn(\n"
     ]
    }
   ],
   "source": [
    "predicted_ids = model.generate(input_features)"
   ]
  },
  {
   "cell_type": "code",
   "execution_count": 41,
   "id": "ce585480",
   "metadata": {},
   "outputs": [],
   "source": [
    "transcription = processor.batch_decode(predicted_ids, skip_special_tokens=False)\n"
   ]
  },
  {
   "cell_type": "code",
   "execution_count": 42,
   "id": "f7829ceb",
   "metadata": {},
   "outputs": [
    {
     "data": {
      "text/plain": [
       "['<|startoftranscript|><|notimestamps|> I<|endoftext|>']"
      ]
     },
     "execution_count": 42,
     "metadata": {},
     "output_type": "execute_result"
    }
   ],
   "source": [
    "transcription"
   ]
  }
 ],
 "metadata": {
  "kernelspec": {
   "display_name": "Python [conda env:jv-pln]",
   "language": "python",
   "name": "conda-env-jv-pln-py"
  },
  "language_info": {
   "codemirror_mode": {
    "name": "ipython",
    "version": 3
   },
   "file_extension": ".py",
   "mimetype": "text/x-python",
   "name": "python",
   "nbconvert_exporter": "python",
   "pygments_lexer": "ipython3",
   "version": "3.11.0"
  }
 },
 "nbformat": 4,
 "nbformat_minor": 5
}
